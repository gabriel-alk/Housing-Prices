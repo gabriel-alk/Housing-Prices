{
 "cells": [
  {
   "cell_type": "markdown",
   "id": "c0870b37",
   "metadata": {},
   "source": [
    "## Previsão do preço de venda de imóveis utilizando o modelo Random Forest\n",
    "\n",
    "Este código utiliza o modelo de regressão Random Forest do Scikit-Learn para prever o preço de venda de imóveis no estado de Iowa - EUA. \n",
    "\n",
    "O objetivo do modelo é prever o preço de venda de casas (variável alvo, \"SalePrice\") com base em um conjunto de características (ou \"features\") da casa, como área do lote, número de quartos, banheiros, etc.\n",
    "\n",
    "O processo de criação do modelo começa importando as bibliotecas necessárias para executar as etapas seguintes. Em seguida, carrega-se um arquivo de dados (train.csv) em um objeto pandas DataFrame chamado \"home_data\" e seleciona-se a variável alvo (SalePrice) para ser usada como o resultado esperado.\n",
    "\n",
    "Em seguida, escolhem-se as características que serão utilizadas no modelo e são armazenadas na lista \"features\". As colunas correspondentes às características selecionadas são extraídas do DataFrame e armazenadas no objeto X.\n",
    "\n",
    "Os dados são então divididos em dados de treinamento e de validação usando a função train_test_split, que separa aleatoriamente os dados em duas partes, uma para treinamento e outra para validação.\n",
    "\n",
    "Em seguida, é definido o modelo de regressão usando RandomForestRegressor da biblioteca scikit-learn, que é ajustado aos dados de treinamento usando o método fit().\n",
    "\n",
    "O desempenho do modelo é avaliado usando o MAE (mean absolute error) em relação aos dados de validação. O MAE é uma métrica de avaliação comum para modelos de regressão, que mede a média das diferenças absolutas entre as previsões do modelo e os valores reais."
   ]
  },
  {
   "cell_type": "code",
   "execution_count": 4,
   "id": "138d5941",
   "metadata": {},
   "outputs": [
    {
     "name": "stdout",
     "output_type": "stream",
     "text": [
      "Valor do MAE para o modelo Random Forest: 18,580\n"
     ]
    }
   ],
   "source": [
    "# importa as bibliotecas necessárias\n",
    "import pandas as pd\n",
    "from sklearn.ensemble import RandomForestRegressor\n",
    "from sklearn.metrics import mean_absolute_error\n",
    "from sklearn.model_selection import train_test_split\n",
    "\n",
    "# Carrega o arquivo com os dados e seleciona a variável alvo (SalePrice)\n",
    "iowa_file_path = 'train.csv'\n",
    "home_data = pd.read_csv(iowa_file_path)\n",
    "y = home_data.SalePrice \n",
    "\n",
    "# Seleciona as features do modelo\n",
    "features = ['LotArea', 'YearBuilt', '1stFlrSF', '2ndFlrSF',\n",
    "            'FullBath', 'BedroomAbvGr', 'TotRmsAbvGrd' , 'MSSubClass',\n",
    "            'PoolArea','YrSold','ScreenPorch','OverallCond','OverallQual'\n",
    "           ]\n",
    "\n",
    "# Seleciona as colunas correponde às features do modelo\n",
    "X = home_data[features]\n",
    "X.head()\n",
    "\n",
    "# Separa os dados de validação e treino do modelo\n",
    "train_X, val_X, train_y, val_y = train_test_split(X, y, random_state=1)\n",
    "\n",
    "# Define o modelo de random forest\n",
    "rf_model = RandomForestRegressor(random_state=1, n_estimators=100)\n",
    "rf_model.fit(train_X, train_y)\n",
    "rf_val_predictions = rf_model.predict(val_X)\n",
    "rf_val_mae = mean_absolute_error(rf_val_predictions, val_y)\n",
    "\n",
    "#Valor do MAE (mean absolute error) do modelo\n",
    "print(\"Valor do MAE para o modelo Random Forest: {:,.0f}\".format(rf_val_mae)) "
   ]
  }
 ],
 "metadata": {
  "kernelspec": {
   "display_name": "Python 3 (ipykernel)",
   "language": "python",
   "name": "python3"
  },
  "language_info": {
   "codemirror_mode": {
    "name": "ipython",
    "version": 3
   },
   "file_extension": ".py",
   "mimetype": "text/x-python",
   "name": "python",
   "nbconvert_exporter": "python",
   "pygments_lexer": "ipython3",
   "version": "3.9.13"
  }
 },
 "nbformat": 4,
 "nbformat_minor": 5
}
